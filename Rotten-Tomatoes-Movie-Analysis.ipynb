{
 "cells": [
  {
   "cell_type": "code",
   "execution_count": 1,
   "id": "96382f78-705f-4402-af3c-4aa9a32351c5",
   "metadata": {},
   "outputs": [],
   "source": [
    "import pandas as pd\n",
    "import numpy as np\n",
    "import seaborn as sns\n",
    "import matplotlib.pyplot as plt"
   ]
  },
  {
   "cell_type": "code",
   "execution_count": 73,
   "id": "035cc5f4-a6f1-418f-af7f-7b1bd44506cf",
   "metadata": {},
   "outputs": [],
   "source": [
    "# Data Loading\n",
    "\n",
    "movies = pd.read_csv(\"C:\\\\Users\\\\zisan\\\\Downloads\\\\Exploratory projects\\\\Rotten-Tomatoes-Movie-Analysis\\\\data\\\\movies.csv\")\n",
    "critic_reviews = pd.read_csv(\"C:\\\\Users\\\\zisan\\\\Downloads\\\\Exploratory projects\\\\Rotten-Tomatoes-Movie-Analysis\\\\data\\\\critic_reviews.csv\")"
   ]
  },
  {
   "cell_type": "code",
   "execution_count": 74,
   "id": "5db9d697-0ad5-4373-9898-d327e3748530",
   "metadata": {},
   "outputs": [
    {
     "data": {
      "text/html": [
       "<div>\n",
       "<style scoped>\n",
       "    .dataframe tbody tr th:only-of-type {\n",
       "        vertical-align: middle;\n",
       "    }\n",
       "\n",
       "    .dataframe tbody tr th {\n",
       "        vertical-align: top;\n",
       "    }\n",
       "\n",
       "    .dataframe thead th {\n",
       "        text-align: right;\n",
       "    }\n",
       "</style>\n",
       "<table border=\"1\" class=\"dataframe\">\n",
       "  <thead>\n",
       "    <tr style=\"text-align: right;\">\n",
       "      <th></th>\n",
       "      <th>rotten_tomatoes_link</th>\n",
       "      <th>movie_title</th>\n",
       "      <th>movie_info</th>\n",
       "      <th>critics_consensus</th>\n",
       "      <th>content_rating</th>\n",
       "      <th>genres</th>\n",
       "      <th>directors</th>\n",
       "      <th>authors</th>\n",
       "      <th>actors</th>\n",
       "      <th>original_release_date</th>\n",
       "      <th>...</th>\n",
       "      <th>tomatometer_status</th>\n",
       "      <th>tomatometer_rating</th>\n",
       "      <th>tomatometer_count</th>\n",
       "      <th>audience_status</th>\n",
       "      <th>audience_rating</th>\n",
       "      <th>audience_count</th>\n",
       "      <th>tomatometer_top_critics_count</th>\n",
       "      <th>tomatometer_fresh_critics_count</th>\n",
       "      <th>tomatometer_rotten_critics_count</th>\n",
       "      <th>audience_vs_critics</th>\n",
       "    </tr>\n",
       "  </thead>\n",
       "  <tbody>\n",
       "    <tr>\n",
       "      <th>0</th>\n",
       "      <td>m/0814255</td>\n",
       "      <td>Percy Jackson &amp; the Olympians: The Lightning T...</td>\n",
       "      <td>Always trouble-prone, the life of teenager Per...</td>\n",
       "      <td>Though it may seem like just another Harry Pot...</td>\n",
       "      <td>PG</td>\n",
       "      <td>Action &amp; Adventure, Comedy, Drama, Science Fic...</td>\n",
       "      <td>Chris Columbus</td>\n",
       "      <td>Craig Titley, Chris Columbus, Rick Riordan</td>\n",
       "      <td>Logan Lerman, Brandon T. Jackson, Alexandra Da...</td>\n",
       "      <td>2010-02-12</td>\n",
       "      <td>...</td>\n",
       "      <td>Rotten</td>\n",
       "      <td>49</td>\n",
       "      <td>149</td>\n",
       "      <td>Spilled</td>\n",
       "      <td>53</td>\n",
       "      <td>254421</td>\n",
       "      <td>43</td>\n",
       "      <td>73</td>\n",
       "      <td>76</td>\n",
       "      <td>-4</td>\n",
       "    </tr>\n",
       "    <tr>\n",
       "      <th>1</th>\n",
       "      <td>m/0878835</td>\n",
       "      <td>Please Give</td>\n",
       "      <td>Kate (Catherine Keener) and her husband Alex (...</td>\n",
       "      <td>Nicole Holofcener's newest might seem slight i...</td>\n",
       "      <td>R</td>\n",
       "      <td>Comedy</td>\n",
       "      <td>Nicole Holofcener</td>\n",
       "      <td>Nicole Holofcener</td>\n",
       "      <td>Catherine Keener, Amanda Peet, Oliver Platt, R...</td>\n",
       "      <td>2010-04-30</td>\n",
       "      <td>...</td>\n",
       "      <td>Certified-Fresh</td>\n",
       "      <td>87</td>\n",
       "      <td>142</td>\n",
       "      <td>Upright</td>\n",
       "      <td>64</td>\n",
       "      <td>11574</td>\n",
       "      <td>44</td>\n",
       "      <td>123</td>\n",
       "      <td>19</td>\n",
       "      <td>23</td>\n",
       "    </tr>\n",
       "    <tr>\n",
       "      <th>2</th>\n",
       "      <td>m/10</td>\n",
       "      <td>10</td>\n",
       "      <td>A successful, middle-aged Hollywood songwriter...</td>\n",
       "      <td>Blake Edwards' bawdy comedy may not score a pe...</td>\n",
       "      <td>R</td>\n",
       "      <td>Comedy, Romance</td>\n",
       "      <td>Blake Edwards</td>\n",
       "      <td>Blake Edwards</td>\n",
       "      <td>Dudley Moore, Bo Derek, Julie Andrews, Robert ...</td>\n",
       "      <td>1979-10-05</td>\n",
       "      <td>...</td>\n",
       "      <td>Fresh</td>\n",
       "      <td>67</td>\n",
       "      <td>24</td>\n",
       "      <td>Spilled</td>\n",
       "      <td>53</td>\n",
       "      <td>14684</td>\n",
       "      <td>2</td>\n",
       "      <td>16</td>\n",
       "      <td>8</td>\n",
       "      <td>14</td>\n",
       "    </tr>\n",
       "    <tr>\n",
       "      <th>3</th>\n",
       "      <td>m/1000013-12_angry_men</td>\n",
       "      <td>12 Angry Men (Twelve Angry Men)</td>\n",
       "      <td>Following the closing arguments in a murder tr...</td>\n",
       "      <td>Sidney Lumet's feature debut is a superbly wri...</td>\n",
       "      <td>NR</td>\n",
       "      <td>Classics, Drama</td>\n",
       "      <td>Sidney Lumet</td>\n",
       "      <td>Reginald Rose</td>\n",
       "      <td>Martin Balsam, John Fiedler, Lee J. Cobb, E.G....</td>\n",
       "      <td>1957-04-13</td>\n",
       "      <td>...</td>\n",
       "      <td>Certified-Fresh</td>\n",
       "      <td>100</td>\n",
       "      <td>54</td>\n",
       "      <td>Upright</td>\n",
       "      <td>97</td>\n",
       "      <td>105386</td>\n",
       "      <td>6</td>\n",
       "      <td>54</td>\n",
       "      <td>0</td>\n",
       "      <td>3</td>\n",
       "    </tr>\n",
       "    <tr>\n",
       "      <th>4</th>\n",
       "      <td>m/1000079-20000_leagues_under_the_sea</td>\n",
       "      <td>20,000 Leagues Under The Sea</td>\n",
       "      <td>In 1866, Professor Pierre M. Aronnax (Paul Luk...</td>\n",
       "      <td>One of Disney's finest live-action adventures,...</td>\n",
       "      <td>G</td>\n",
       "      <td>Action &amp; Adventure, Drama, Kids &amp; Family</td>\n",
       "      <td>Richard Fleischer</td>\n",
       "      <td>Earl Felton</td>\n",
       "      <td>James Mason, Kirk Douglas, Paul Lukas, Peter L...</td>\n",
       "      <td>1954-01-01</td>\n",
       "      <td>...</td>\n",
       "      <td>Fresh</td>\n",
       "      <td>89</td>\n",
       "      <td>27</td>\n",
       "      <td>Upright</td>\n",
       "      <td>74</td>\n",
       "      <td>68918</td>\n",
       "      <td>5</td>\n",
       "      <td>24</td>\n",
       "      <td>3</td>\n",
       "      <td>15</td>\n",
       "    </tr>\n",
       "  </tbody>\n",
       "</table>\n",
       "<p>5 rows × 23 columns</p>\n",
       "</div>"
      ],
      "text/plain": [
       "                    rotten_tomatoes_link  \\\n",
       "0                              m/0814255   \n",
       "1                              m/0878835   \n",
       "2                                   m/10   \n",
       "3                 m/1000013-12_angry_men   \n",
       "4  m/1000079-20000_leagues_under_the_sea   \n",
       "\n",
       "                                         movie_title  \\\n",
       "0  Percy Jackson & the Olympians: The Lightning T...   \n",
       "1                                        Please Give   \n",
       "2                                                 10   \n",
       "3                    12 Angry Men (Twelve Angry Men)   \n",
       "4                       20,000 Leagues Under The Sea   \n",
       "\n",
       "                                          movie_info  \\\n",
       "0  Always trouble-prone, the life of teenager Per...   \n",
       "1  Kate (Catherine Keener) and her husband Alex (...   \n",
       "2  A successful, middle-aged Hollywood songwriter...   \n",
       "3  Following the closing arguments in a murder tr...   \n",
       "4  In 1866, Professor Pierre M. Aronnax (Paul Luk...   \n",
       "\n",
       "                                   critics_consensus content_rating  \\\n",
       "0  Though it may seem like just another Harry Pot...             PG   \n",
       "1  Nicole Holofcener's newest might seem slight i...              R   \n",
       "2  Blake Edwards' bawdy comedy may not score a pe...              R   \n",
       "3  Sidney Lumet's feature debut is a superbly wri...             NR   \n",
       "4  One of Disney's finest live-action adventures,...              G   \n",
       "\n",
       "                                              genres          directors  \\\n",
       "0  Action & Adventure, Comedy, Drama, Science Fic...     Chris Columbus   \n",
       "1                                             Comedy  Nicole Holofcener   \n",
       "2                                    Comedy, Romance      Blake Edwards   \n",
       "3                                    Classics, Drama       Sidney Lumet   \n",
       "4           Action & Adventure, Drama, Kids & Family  Richard Fleischer   \n",
       "\n",
       "                                      authors  \\\n",
       "0  Craig Titley, Chris Columbus, Rick Riordan   \n",
       "1                           Nicole Holofcener   \n",
       "2                               Blake Edwards   \n",
       "3                               Reginald Rose   \n",
       "4                                 Earl Felton   \n",
       "\n",
       "                                              actors original_release_date  \\\n",
       "0  Logan Lerman, Brandon T. Jackson, Alexandra Da...            2010-02-12   \n",
       "1  Catherine Keener, Amanda Peet, Oliver Platt, R...            2010-04-30   \n",
       "2  Dudley Moore, Bo Derek, Julie Andrews, Robert ...            1979-10-05   \n",
       "3  Martin Balsam, John Fiedler, Lee J. Cobb, E.G....            1957-04-13   \n",
       "4  James Mason, Kirk Douglas, Paul Lukas, Peter L...            1954-01-01   \n",
       "\n",
       "   ... tomatometer_status  tomatometer_rating tomatometer_count  \\\n",
       "0  ...             Rotten                  49               149   \n",
       "1  ...    Certified-Fresh                  87               142   \n",
       "2  ...              Fresh                  67                24   \n",
       "3  ...    Certified-Fresh                 100                54   \n",
       "4  ...              Fresh                  89                27   \n",
       "\n",
       "  audience_status  audience_rating  audience_count  \\\n",
       "0         Spilled               53          254421   \n",
       "1         Upright               64           11574   \n",
       "2         Spilled               53           14684   \n",
       "3         Upright               97          105386   \n",
       "4         Upright               74           68918   \n",
       "\n",
       "  tomatometer_top_critics_count  tomatometer_fresh_critics_count  \\\n",
       "0                            43                               73   \n",
       "1                            44                              123   \n",
       "2                             2                               16   \n",
       "3                             6                               54   \n",
       "4                             5                               24   \n",
       "\n",
       "   tomatometer_rotten_critics_count  audience_vs_critics  \n",
       "0                                76                   -4  \n",
       "1                                19                   23  \n",
       "2                                 8                   14  \n",
       "3                                 0                    3  \n",
       "4                                 3                   15  \n",
       "\n",
       "[5 rows x 23 columns]"
      ]
     },
     "execution_count": 74,
     "metadata": {},
     "output_type": "execute_result"
    }
   ],
   "source": [
    "movies.head(5)"
   ]
  },
  {
   "cell_type": "code",
   "execution_count": 75,
   "id": "64ab4f4a-7380-4446-9848-d3cdaa323629",
   "metadata": {},
   "outputs": [
    {
     "data": {
      "text/plain": [
       "Index(['rotten_tomatoes_link', 'movie_title', 'movie_info',\n",
       "       'critics_consensus', 'content_rating', 'genres', 'directors', 'authors',\n",
       "       'actors', 'original_release_date', 'streaming_release_date', 'runtime',\n",
       "       'production_company', 'tomatometer_status', 'tomatometer_rating',\n",
       "       'tomatometer_count', 'audience_status', 'audience_rating',\n",
       "       'audience_count', 'tomatometer_top_critics_count',\n",
       "       'tomatometer_fresh_critics_count', 'tomatometer_rotten_critics_count',\n",
       "       'audience_vs_critics'],\n",
       "      dtype='object')"
      ]
     },
     "execution_count": 75,
     "metadata": {},
     "output_type": "execute_result"
    }
   ],
   "source": [
    "movies.columns"
   ]
  },
  {
   "cell_type": "code",
   "execution_count": 76,
   "id": "6518f568-49b5-42ff-9fe6-36cc9945a98c",
   "metadata": {},
   "outputs": [
    {
     "data": {
      "text/html": [
       "<div>\n",
       "<style scoped>\n",
       "    .dataframe tbody tr th:only-of-type {\n",
       "        vertical-align: middle;\n",
       "    }\n",
       "\n",
       "    .dataframe tbody tr th {\n",
       "        vertical-align: top;\n",
       "    }\n",
       "\n",
       "    .dataframe thead th {\n",
       "        text-align: right;\n",
       "    }\n",
       "</style>\n",
       "<table border=\"1\" class=\"dataframe\">\n",
       "  <thead>\n",
       "    <tr style=\"text-align: right;\">\n",
       "      <th></th>\n",
       "      <th>runtime</th>\n",
       "      <th>tomatometer_rating</th>\n",
       "      <th>tomatometer_count</th>\n",
       "      <th>audience_rating</th>\n",
       "      <th>audience_count</th>\n",
       "      <th>tomatometer_top_critics_count</th>\n",
       "      <th>tomatometer_fresh_critics_count</th>\n",
       "      <th>tomatometer_rotten_critics_count</th>\n",
       "      <th>audience_vs_critics</th>\n",
       "    </tr>\n",
       "  </thead>\n",
       "  <tbody>\n",
       "    <tr>\n",
       "      <th>count</th>\n",
       "      <td>17712.000000</td>\n",
       "      <td>17712.000000</td>\n",
       "      <td>17712.000000</td>\n",
       "      <td>17712.000000</td>\n",
       "      <td>1.771200e+04</td>\n",
       "      <td>17712.000000</td>\n",
       "      <td>17712.000000</td>\n",
       "      <td>17712.000000</td>\n",
       "      <td>17712.000000</td>\n",
       "    </tr>\n",
       "    <tr>\n",
       "      <th>mean</th>\n",
       "      <td>100.401987</td>\n",
       "      <td>60.733514</td>\n",
       "      <td>56.997855</td>\n",
       "      <td>59.542288</td>\n",
       "      <td>1.415264e+05</td>\n",
       "      <td>14.586326</td>\n",
       "      <td>36.374831</td>\n",
       "      <td>20.703139</td>\n",
       "      <td>1.191226</td>\n",
       "    </tr>\n",
       "    <tr>\n",
       "      <th>std</th>\n",
       "      <td>22.924382</td>\n",
       "      <td>28.569224</td>\n",
       "      <td>68.344286</td>\n",
       "      <td>21.799892</td>\n",
       "      <td>1.748826e+06</td>\n",
       "      <td>15.146349</td>\n",
       "      <td>52.601038</td>\n",
       "      <td>30.248435</td>\n",
       "      <td>23.298576</td>\n",
       "    </tr>\n",
       "    <tr>\n",
       "      <th>min</th>\n",
       "      <td>0.000000</td>\n",
       "      <td>0.000000</td>\n",
       "      <td>0.000000</td>\n",
       "      <td>0.000000</td>\n",
       "      <td>0.000000e+00</td>\n",
       "      <td>0.000000</td>\n",
       "      <td>0.000000</td>\n",
       "      <td>0.000000</td>\n",
       "      <td>-95.000000</td>\n",
       "    </tr>\n",
       "    <tr>\n",
       "      <th>25%</th>\n",
       "      <td>90.000000</td>\n",
       "      <td>38.000000</td>\n",
       "      <td>12.000000</td>\n",
       "      <td>44.000000</td>\n",
       "      <td>6.360000e+02</td>\n",
       "      <td>3.000000</td>\n",
       "      <td>6.000000</td>\n",
       "      <td>3.000000</td>\n",
       "      <td>-13.000000</td>\n",
       "    </tr>\n",
       "    <tr>\n",
       "      <th>50%</th>\n",
       "      <td>99.000000</td>\n",
       "      <td>67.000000</td>\n",
       "      <td>28.000000</td>\n",
       "      <td>62.000000</td>\n",
       "      <td>4.025000e+03</td>\n",
       "      <td>8.000000</td>\n",
       "      <td>16.000000</td>\n",
       "      <td>8.000000</td>\n",
       "      <td>3.000000</td>\n",
       "    </tr>\n",
       "    <tr>\n",
       "      <th>75%</th>\n",
       "      <td>110.000000</td>\n",
       "      <td>86.000000</td>\n",
       "      <td>75.000000</td>\n",
       "      <td>77.000000</td>\n",
       "      <td>2.365200e+04</td>\n",
       "      <td>23.000000</td>\n",
       "      <td>44.000000</td>\n",
       "      <td>24.000000</td>\n",
       "      <td>15.000000</td>\n",
       "    </tr>\n",
       "    <tr>\n",
       "      <th>max</th>\n",
       "      <td>266.000000</td>\n",
       "      <td>100.000000</td>\n",
       "      <td>574.000000</td>\n",
       "      <td>100.000000</td>\n",
       "      <td>3.579764e+07</td>\n",
       "      <td>69.000000</td>\n",
       "      <td>497.000000</td>\n",
       "      <td>303.000000</td>\n",
       "      <td>100.000000</td>\n",
       "    </tr>\n",
       "  </tbody>\n",
       "</table>\n",
       "</div>"
      ],
      "text/plain": [
       "            runtime  tomatometer_rating  tomatometer_count  audience_rating  \\\n",
       "count  17712.000000        17712.000000       17712.000000     17712.000000   \n",
       "mean     100.401987           60.733514          56.997855        59.542288   \n",
       "std       22.924382           28.569224          68.344286        21.799892   \n",
       "min        0.000000            0.000000           0.000000         0.000000   \n",
       "25%       90.000000           38.000000          12.000000        44.000000   \n",
       "50%       99.000000           67.000000          28.000000        62.000000   \n",
       "75%      110.000000           86.000000          75.000000        77.000000   \n",
       "max      266.000000          100.000000         574.000000       100.000000   \n",
       "\n",
       "       audience_count  tomatometer_top_critics_count  \\\n",
       "count    1.771200e+04                   17712.000000   \n",
       "mean     1.415264e+05                      14.586326   \n",
       "std      1.748826e+06                      15.146349   \n",
       "min      0.000000e+00                       0.000000   \n",
       "25%      6.360000e+02                       3.000000   \n",
       "50%      4.025000e+03                       8.000000   \n",
       "75%      2.365200e+04                      23.000000   \n",
       "max      3.579764e+07                      69.000000   \n",
       "\n",
       "       tomatometer_fresh_critics_count  tomatometer_rotten_critics_count  \\\n",
       "count                     17712.000000                      17712.000000   \n",
       "mean                         36.374831                         20.703139   \n",
       "std                          52.601038                         30.248435   \n",
       "min                           0.000000                          0.000000   \n",
       "25%                           6.000000                          3.000000   \n",
       "50%                          16.000000                          8.000000   \n",
       "75%                          44.000000                         24.000000   \n",
       "max                         497.000000                        303.000000   \n",
       "\n",
       "       audience_vs_critics  \n",
       "count         17712.000000  \n",
       "mean              1.191226  \n",
       "std              23.298576  \n",
       "min             -95.000000  \n",
       "25%             -13.000000  \n",
       "50%               3.000000  \n",
       "75%              15.000000  \n",
       "max             100.000000  "
      ]
     },
     "execution_count": 76,
     "metadata": {},
     "output_type": "execute_result"
    }
   ],
   "source": [
    "movies.describe()"
   ]
  },
  {
   "cell_type": "code",
   "execution_count": 77,
   "id": "ee72f477-244b-47b9-9bbb-2756c3730ba8",
   "metadata": {},
   "outputs": [
    {
     "name": "stdout",
     "output_type": "stream",
     "text": [
      "<class 'pandas.core.frame.DataFrame'>\n",
      "RangeIndex: 17712 entries, 0 to 17711\n",
      "Data columns (total 23 columns):\n",
      " #   Column                            Non-Null Count  Dtype \n",
      "---  ------                            --------------  ----- \n",
      " 0   rotten_tomatoes_link              17712 non-null  object\n",
      " 1   movie_title                       17712 non-null  object\n",
      " 2   movie_info                        17712 non-null  object\n",
      " 3   critics_consensus                 17712 non-null  object\n",
      " 4   content_rating                    17712 non-null  object\n",
      " 5   genres                            17712 non-null  object\n",
      " 6   directors                         17712 non-null  object\n",
      " 7   authors                           17712 non-null  object\n",
      " 8   actors                            17712 non-null  object\n",
      " 9   original_release_date             17712 non-null  object\n",
      " 10  streaming_release_date            17712 non-null  object\n",
      " 11  runtime                           17712 non-null  int64 \n",
      " 12  production_company                17712 non-null  object\n",
      " 13  tomatometer_status                17712 non-null  object\n",
      " 14  tomatometer_rating                17712 non-null  int64 \n",
      " 15  tomatometer_count                 17712 non-null  int64 \n",
      " 16  audience_status                   17712 non-null  object\n",
      " 17  audience_rating                   17712 non-null  int64 \n",
      " 18  audience_count                    17712 non-null  int64 \n",
      " 19  tomatometer_top_critics_count     17712 non-null  int64 \n",
      " 20  tomatometer_fresh_critics_count   17712 non-null  int64 \n",
      " 21  tomatometer_rotten_critics_count  17712 non-null  int64 \n",
      " 22  audience_vs_critics               17712 non-null  int64 \n",
      "dtypes: int64(9), object(14)\n",
      "memory usage: 3.1+ MB\n"
     ]
    }
   ],
   "source": [
    "movies.info()"
   ]
  },
  {
   "cell_type": "code",
   "execution_count": 7,
   "id": "4db718a8-2b9e-4b7b-b8d7-b3765cb8db9f",
   "metadata": {},
   "outputs": [],
   "source": [
    "# chenging data types - original_release_date and streaming_release_date  to datetime\n",
    "\n",
    "\n",
    "movies[\"original_release_date\"] = pd.to_datetime(movies[\"original_release_date\"], errors=\"coerce\")\n",
    "movies[\"streaming_release_date\"] = pd.to_datetime(movies[\"streaming_release_date\"], errors=\"coerce\")"
   ]
  },
  {
   "cell_type": "code",
   "execution_count": 8,
   "id": "e78b9fd9-c00f-4687-8036-6e9e2d7dfd0c",
   "metadata": {},
   "outputs": [
    {
     "name": "stdout",
     "output_type": "stream",
     "text": [
      "<class 'pandas.core.frame.DataFrame'>\n",
      "RangeIndex: 17712 entries, 0 to 17711\n",
      "Data columns (total 23 columns):\n",
      " #   Column                            Non-Null Count  Dtype         \n",
      "---  ------                            --------------  -----         \n",
      " 0   rotten_tomatoes_link              17712 non-null  object        \n",
      " 1   movie_title                       17712 non-null  object        \n",
      " 2   movie_info                        17712 non-null  object        \n",
      " 3   critics_consensus                 17712 non-null  object        \n",
      " 4   content_rating                    17712 non-null  object        \n",
      " 5   genres                            17712 non-null  object        \n",
      " 6   directors                         17712 non-null  object        \n",
      " 7   authors                           17712 non-null  object        \n",
      " 8   actors                            17712 non-null  object        \n",
      " 9   original_release_date             16546 non-null  datetime64[ns]\n",
      " 10  streaming_release_date            17328 non-null  datetime64[ns]\n",
      " 11  runtime                           17712 non-null  int64         \n",
      " 12  production_company                17712 non-null  object        \n",
      " 13  tomatometer_status                17712 non-null  object        \n",
      " 14  tomatometer_rating                17712 non-null  int64         \n",
      " 15  tomatometer_count                 17712 non-null  int64         \n",
      " 16  audience_status                   17712 non-null  object        \n",
      " 17  audience_rating                   17712 non-null  int64         \n",
      " 18  audience_count                    17712 non-null  int64         \n",
      " 19  tomatometer_top_critics_count     17712 non-null  int64         \n",
      " 20  tomatometer_fresh_critics_count   17712 non-null  int64         \n",
      " 21  tomatometer_rotten_critics_count  17712 non-null  int64         \n",
      " 22  audience_vs_critics               17712 non-null  int64         \n",
      "dtypes: datetime64[ns](2), int64(9), object(12)\n",
      "memory usage: 3.1+ MB\n"
     ]
    }
   ],
   "source": [
    "movies.info()"
   ]
  },
  {
   "cell_type": "code",
   "execution_count": 9,
   "id": "ef3706e4-53f9-4ea3-9ae6-9ede2004446a",
   "metadata": {},
   "outputs": [
    {
     "data": {
      "text/plain": [
       "rotten_tomatoes_link                   0\n",
       "movie_title                            0\n",
       "movie_info                             0\n",
       "critics_consensus                      0\n",
       "content_rating                         0\n",
       "genres                                 0\n",
       "directors                              0\n",
       "authors                                0\n",
       "actors                                 0\n",
       "original_release_date               1166\n",
       "streaming_release_date               384\n",
       "runtime                                0\n",
       "production_company                     0\n",
       "tomatometer_status                     0\n",
       "tomatometer_rating                     0\n",
       "tomatometer_count                      0\n",
       "audience_status                        0\n",
       "audience_rating                        0\n",
       "audience_count                         0\n",
       "tomatometer_top_critics_count          0\n",
       "tomatometer_fresh_critics_count        0\n",
       "tomatometer_rotten_critics_count       0\n",
       "audience_vs_critics                    0\n",
       "dtype: int64"
      ]
     },
     "execution_count": 9,
     "metadata": {},
     "output_type": "execute_result"
    }
   ],
   "source": [
    "movies.isna().sum()"
   ]
  },
  {
   "cell_type": "code",
   "execution_count": 10,
   "id": "0ca6a3ae-81d4-4d14-947e-623a7004745b",
   "metadata": {},
   "outputs": [],
   "source": [
    "duplicates = movies.duplicated()"
   ]
  },
  {
   "cell_type": "code",
   "execution_count": 11,
   "id": "73639f2f-cebb-4e95-9b8a-3db18917d8c2",
   "metadata": {},
   "outputs": [
    {
     "data": {
      "text/plain": [
       "np.int64(0)"
      ]
     },
     "execution_count": 11,
     "metadata": {},
     "output_type": "execute_result"
    }
   ],
   "source": [
    "duplicates.sum()"
   ]
  },
  {
   "cell_type": "code",
   "execution_count": 12,
   "id": "041f4216-41d8-4c11-95f2-9573c460c40e",
   "metadata": {
    "scrolled": true
   },
   "outputs": [
    {
     "data": {
      "text/plain": [
       "rotten_tomatoes_link    0\n",
       "critic_name             0\n",
       "top_critic              0\n",
       "publisher_name          0\n",
       "review_type             0\n",
       "review_date             0\n",
       "review_content          0\n",
       "dtype: int64"
      ]
     },
     "execution_count": 12,
     "metadata": {},
     "output_type": "execute_result"
    }
   ],
   "source": [
    "critic_reviews.isna().sum()"
   ]
  },
  {
   "cell_type": "code",
   "execution_count": 13,
   "id": "3ace8cc1-ec7e-4db2-870e-b4eec7303fcd",
   "metadata": {},
   "outputs": [
    {
     "data": {
      "text/html": [
       "<div>\n",
       "<style scoped>\n",
       "    .dataframe tbody tr th:only-of-type {\n",
       "        vertical-align: middle;\n",
       "    }\n",
       "\n",
       "    .dataframe tbody tr th {\n",
       "        vertical-align: top;\n",
       "    }\n",
       "\n",
       "    .dataframe thead th {\n",
       "        text-align: right;\n",
       "    }\n",
       "</style>\n",
       "<table border=\"1\" class=\"dataframe\">\n",
       "  <thead>\n",
       "    <tr style=\"text-align: right;\">\n",
       "      <th></th>\n",
       "      <th>rotten_tomatoes_link</th>\n",
       "      <th>critic_name</th>\n",
       "      <th>top_critic</th>\n",
       "      <th>publisher_name</th>\n",
       "      <th>review_type</th>\n",
       "      <th>review_date</th>\n",
       "      <th>review_content</th>\n",
       "    </tr>\n",
       "  </thead>\n",
       "  <tbody>\n",
       "    <tr>\n",
       "      <th>0</th>\n",
       "      <td>m/0814255</td>\n",
       "      <td>Andrew L. Urban</td>\n",
       "      <td>False</td>\n",
       "      <td>Urban Cinefile</td>\n",
       "      <td>Fresh</td>\n",
       "      <td>2/6/2010</td>\n",
       "      <td>A fantasy adventure that fuses Greek mythology...</td>\n",
       "    </tr>\n",
       "    <tr>\n",
       "      <th>1</th>\n",
       "      <td>m/0814255</td>\n",
       "      <td>Louise Keller</td>\n",
       "      <td>False</td>\n",
       "      <td>Urban Cinefile</td>\n",
       "      <td>Fresh</td>\n",
       "      <td>2/6/2010</td>\n",
       "      <td>Uma Thurman as Medusa, the gorgon with a coiff...</td>\n",
       "    </tr>\n",
       "    <tr>\n",
       "      <th>2</th>\n",
       "      <td>m/0814255</td>\n",
       "      <td>no data</td>\n",
       "      <td>False</td>\n",
       "      <td>FILMINK (Australia)</td>\n",
       "      <td>Fresh</td>\n",
       "      <td>2/9/2010</td>\n",
       "      <td>With a top-notch cast and dazzling special eff...</td>\n",
       "    </tr>\n",
       "    <tr>\n",
       "      <th>3</th>\n",
       "      <td>m/0814255</td>\n",
       "      <td>Ben McEachen</td>\n",
       "      <td>False</td>\n",
       "      <td>Sunday Mail (Australia)</td>\n",
       "      <td>Fresh</td>\n",
       "      <td>2/9/2010</td>\n",
       "      <td>Whether audiences will get behind The Lightnin...</td>\n",
       "    </tr>\n",
       "    <tr>\n",
       "      <th>4</th>\n",
       "      <td>m/0814255</td>\n",
       "      <td>Ethan Alter</td>\n",
       "      <td>True</td>\n",
       "      <td>Hollywood Reporter</td>\n",
       "      <td>Rotten</td>\n",
       "      <td>2/10/2010</td>\n",
       "      <td>What's really lacking in The Lightning Thief i...</td>\n",
       "    </tr>\n",
       "    <tr>\n",
       "      <th>...</th>\n",
       "      <td>...</td>\n",
       "      <td>...</td>\n",
       "      <td>...</td>\n",
       "      <td>...</td>\n",
       "      <td>...</td>\n",
       "      <td>...</td>\n",
       "      <td>...</td>\n",
       "    </tr>\n",
       "    <tr>\n",
       "      <th>1048570</th>\n",
       "      <td>m/tourist</td>\n",
       "      <td>Robert W. Butler</td>\n",
       "      <td>False</td>\n",
       "      <td>Kansas City Star</td>\n",
       "      <td>Rotten</td>\n",
       "      <td>12/10/2010</td>\n",
       "      <td>The Tourist is memorable for one thing, at lea...</td>\n",
       "    </tr>\n",
       "    <tr>\n",
       "      <th>1048571</th>\n",
       "      <td>m/tourist</td>\n",
       "      <td>Fred Topel</td>\n",
       "      <td>False</td>\n",
       "      <td>Screen Junkies</td>\n",
       "      <td>Fresh</td>\n",
       "      <td>12/10/2010</td>\n",
       "      <td>It's formulaic, but all the elements are in th...</td>\n",
       "    </tr>\n",
       "    <tr>\n",
       "      <th>1048572</th>\n",
       "      <td>m/tourist</td>\n",
       "      <td>John Beifuss</td>\n",
       "      <td>False</td>\n",
       "      <td>Commercial Appeal (Memphis, TN)</td>\n",
       "      <td>Rotten</td>\n",
       "      <td>12/10/2010</td>\n",
       "      <td>Johnny Depp is such a talented chameleon that ...</td>\n",
       "    </tr>\n",
       "    <tr>\n",
       "      <th>1048573</th>\n",
       "      <td>m/tourist</td>\n",
       "      <td>Tom Long</td>\n",
       "      <td>True</td>\n",
       "      <td>Detroit News</td>\n",
       "      <td>Rotten</td>\n",
       "      <td>12/10/2010</td>\n",
       "      <td>Jolie! Depp! Romantic locations! Intrigue! Som...</td>\n",
       "    </tr>\n",
       "    <tr>\n",
       "      <th>1048574</th>\n",
       "      <td>m/tourist</td>\n",
       "      <td>Chris Vognar</td>\n",
       "      <td>True</td>\n",
       "      <td>Dallas Morning News</td>\n",
       "      <td>Fresh</td>\n",
       "      <td>12/10/2010</td>\n",
       "      <td>The Tourist merely asks you to sit back and en...</td>\n",
       "    </tr>\n",
       "  </tbody>\n",
       "</table>\n",
       "<p>1048575 rows × 7 columns</p>\n",
       "</div>"
      ],
      "text/plain": [
       "        rotten_tomatoes_link       critic_name  top_critic  \\\n",
       "0                  m/0814255   Andrew L. Urban       False   \n",
       "1                  m/0814255     Louise Keller       False   \n",
       "2                  m/0814255           no data       False   \n",
       "3                  m/0814255      Ben McEachen       False   \n",
       "4                  m/0814255       Ethan Alter        True   \n",
       "...                      ...               ...         ...   \n",
       "1048570            m/tourist  Robert W. Butler       False   \n",
       "1048571            m/tourist        Fred Topel       False   \n",
       "1048572            m/tourist      John Beifuss       False   \n",
       "1048573            m/tourist          Tom Long        True   \n",
       "1048574            m/tourist      Chris Vognar        True   \n",
       "\n",
       "                          publisher_name review_type review_date  \\\n",
       "0                         Urban Cinefile       Fresh    2/6/2010   \n",
       "1                         Urban Cinefile       Fresh    2/6/2010   \n",
       "2                    FILMINK (Australia)       Fresh    2/9/2010   \n",
       "3                Sunday Mail (Australia)       Fresh    2/9/2010   \n",
       "4                     Hollywood Reporter      Rotten   2/10/2010   \n",
       "...                                  ...         ...         ...   \n",
       "1048570                 Kansas City Star      Rotten  12/10/2010   \n",
       "1048571                   Screen Junkies       Fresh  12/10/2010   \n",
       "1048572  Commercial Appeal (Memphis, TN)      Rotten  12/10/2010   \n",
       "1048573                     Detroit News      Rotten  12/10/2010   \n",
       "1048574              Dallas Morning News       Fresh  12/10/2010   \n",
       "\n",
       "                                            review_content  \n",
       "0        A fantasy adventure that fuses Greek mythology...  \n",
       "1        Uma Thurman as Medusa, the gorgon with a coiff...  \n",
       "2        With a top-notch cast and dazzling special eff...  \n",
       "3        Whether audiences will get behind The Lightnin...  \n",
       "4        What's really lacking in The Lightning Thief i...  \n",
       "...                                                    ...  \n",
       "1048570  The Tourist is memorable for one thing, at lea...  \n",
       "1048571  It's formulaic, but all the elements are in th...  \n",
       "1048572  Johnny Depp is such a talented chameleon that ...  \n",
       "1048573  Jolie! Depp! Romantic locations! Intrigue! Som...  \n",
       "1048574  The Tourist merely asks you to sit back and en...  \n",
       "\n",
       "[1048575 rows x 7 columns]"
      ]
     },
     "execution_count": 13,
     "metadata": {},
     "output_type": "execute_result"
    }
   ],
   "source": [
    "critic_reviews"
   ]
  },
  {
   "cell_type": "code",
   "execution_count": 14,
   "id": "b5a02ce9-c9cd-4242-9ab4-58f982e8e04c",
   "metadata": {},
   "outputs": [],
   "source": [
    "# Genre Popularity: Create a bar chart of the top 10 genres by average audience_rating."
   ]
  },
  {
   "cell_type": "code",
   "execution_count": 15,
   "id": "b8f46581-9038-457c-a19c-c22c134f66f2",
   "metadata": {},
   "outputs": [],
   "source": [
    "top_3g = movies.groupby(\"genres\")[\"audience_rating\"].mean().reset_index()"
   ]
  },
  {
   "cell_type": "code",
   "execution_count": 16,
   "id": "6023bd2b-3ec8-4838-a0d3-2552687a14f5",
   "metadata": {},
   "outputs": [],
   "source": [
    "top_3g = top_3g.sort_values(by=\"audience_rating\", ascending = False)"
   ]
  },
  {
   "cell_type": "code",
   "execution_count": 17,
   "id": "9b08f7b6-1d77-4902-b70f-101c00209255",
   "metadata": {},
   "outputs": [],
   "source": [
    "top_3ga = top_3g.head(3)"
   ]
  },
  {
   "cell_type": "code",
   "execution_count": 18,
   "id": "b3bee973-d11e-46e5-b940-2b4ae31f7c8d",
   "metadata": {},
   "outputs": [
    {
     "data": {
      "image/png": "[encoded data removed]",
      "text/plain": [
       "<Figure size 2500x1000 with 1 Axes>"
      ]
     },
     "metadata": {},
     "output_type": "display_data"
    }
   ],
   "source": [
    "plt.figure(figsize = (25, 10))\n",
    "sns.barplot(data=top_3ga, x = \"genres\", y=\"audience_rating\" )\n",
    "plt.title(\"Top 10 genres by average audience_rating\")\n",
    "plt.xlabel(\"Genre\")\n",
    "plt.ylabel(\"Audiance Rating\")\n",
    "plt.show()"
   ]
  },
  {
   "cell_type": "code",
   "execution_count": 19,
   "id": "164fcc71-04c2-4b5c-8fb3-62481c3998b7",
   "metadata": {},
   "outputs": [],
   "source": [
    "# Fresh and Rotten Split"
   ]
  },
  {
   "cell_type": "code",
   "execution_count": 20,
   "id": "efe4ab63-f251-411c-94da-5baf05592dfb",
   "metadata": {},
   "outputs": [
    {
     "name": "stdout",
     "output_type": "stream",
     "text": [
      "['Rotten' 'Certified-Fresh' 'Fresh' 'no data']\n"
     ]
    }
   ],
   "source": [
    "print(movies[\"tomatometer_status\"].unique())"
   ]
  },
  {
   "cell_type": "code",
   "execution_count": 21,
   "id": "763bf8ff-1095-4897-946e-873fbffd37d3",
   "metadata": {},
   "outputs": [],
   "source": [
    "movies[\"fresh_rotten\"] = movies[\"tomatometer_status\"].apply(lambda x: \"Fresh\" if x == \"Fresh\" else \"Rotten\")"
   ]
  },
  {
   "cell_type": "code",
   "execution_count": 22,
   "id": "f694d99e-44a2-440c-a5aa-e1025eaf96d5",
   "metadata": {},
   "outputs": [
    {
     "name": "stdout",
     "output_type": "stream",
     "text": [
      "                                         movie_title tomatometer_status  \\\n",
      "0  Percy Jackson & the Olympians: The Lightning T...             Rotten   \n",
      "1                                        Please Give    Certified-Fresh   \n",
      "2                                                 10              Fresh   \n",
      "3                    12 Angry Men (Twelve Angry Men)    Certified-Fresh   \n",
      "4                       20,000 Leagues Under The Sea              Fresh   \n",
      "5                                        10,000 B.C.             Rotten   \n",
      "6                                       The 39 Steps    Certified-Fresh   \n",
      "7                                       3:10 to Yuma              Fresh   \n",
      "8                          Charly (A Heartbeat Away)             Rotten   \n",
      "9                                    Abraham Lincoln              Fresh   \n",
      "\n",
      "  fresh_rotten  \n",
      "0       Rotten  \n",
      "1       Rotten  \n",
      "2        Fresh  \n",
      "3       Rotten  \n",
      "4        Fresh  \n",
      "5       Rotten  \n",
      "6       Rotten  \n",
      "7        Fresh  \n",
      "8       Rotten  \n",
      "9        Fresh  \n"
     ]
    }
   ],
   "source": [
    "print(movies[[\"movie_title\", \"tomatometer_status\", \"fresh_rotten\"]].head(10))"
   ]
  },
  {
   "cell_type": "code",
   "execution_count": 23,
   "id": "d2572cac-28a1-4a50-862d-6f4747c6fce4",
   "metadata": {},
   "outputs": [],
   "source": [
    "# Directors’ Success: Plot the average tomatometer_rating for the top 5 directors with the most movies."
   ]
  },
  {
   "cell_type": "code",
   "execution_count": 24,
   "id": "a98c7af2-7351-44d0-9a50-ed3b6c4c1ec8",
   "metadata": {},
   "outputs": [],
   "source": [
    "movie_count = movies[\"directors\"].value_counts()"
   ]
  },
  {
   "cell_type": "code",
   "execution_count": 25,
   "id": "77bcd929-bfaf-4821-a7da-7f2b5efb0382",
   "metadata": {},
   "outputs": [
    {
     "data": {
      "text/plain": [
       "directors\n",
       "no data             194\n",
       "Clint Eastwood       38\n",
       "Alfred Hitchcock     36\n",
       "Woody Allen          36\n",
       "Sidney Lumet         31\n",
       "Steven Spielberg     30\n",
       "Name: count, dtype: int64"
      ]
     },
     "execution_count": 25,
     "metadata": {},
     "output_type": "execute_result"
    }
   ],
   "source": [
    "movie_count.head(6)"
   ]
  },
  {
   "cell_type": "code",
   "execution_count": 26,
   "id": "f75e0fc5-00cd-42a7-80e9-9fc5048fc153",
   "metadata": {},
   "outputs": [],
   "source": [
    "top_5_directors = movie_count.head(5).index"
   ]
  },
  {
   "cell_type": "code",
   "execution_count": 27,
   "id": "97989b3e-54f0-4753-89ab-4fd3508f8e1e",
   "metadata": {},
   "outputs": [],
   "source": [
    "top_5 = movies[movies[\"directors\"].isin(top_5_directors)]"
   ]
  },
  {
   "cell_type": "code",
   "execution_count": 28,
   "id": "c6241d30-6afb-44e1-b449-446aae98384c",
   "metadata": {},
   "outputs": [
    {
     "data": {
      "text/html": [
       "<div>\n",
       "<style scoped>\n",
       "    .dataframe tbody tr th:only-of-type {\n",
       "        vertical-align: middle;\n",
       "    }\n",
       "\n",
       "    .dataframe tbody tr th {\n",
       "        vertical-align: top;\n",
       "    }\n",
       "\n",
       "    .dataframe thead th {\n",
       "        text-align: right;\n",
       "    }\n",
       "</style>\n",
       "<table border=\"1\" class=\"dataframe\">\n",
       "  <thead>\n",
       "    <tr style=\"text-align: right;\">\n",
       "      <th></th>\n",
       "      <th>rotten_tomatoes_link</th>\n",
       "      <th>movie_title</th>\n",
       "      <th>movie_info</th>\n",
       "      <th>critics_consensus</th>\n",
       "      <th>content_rating</th>\n",
       "      <th>genres</th>\n",
       "      <th>directors</th>\n",
       "      <th>authors</th>\n",
       "      <th>actors</th>\n",
       "      <th>original_release_date</th>\n",
       "      <th>...</th>\n",
       "      <th>tomatometer_rating</th>\n",
       "      <th>tomatometer_count</th>\n",
       "      <th>audience_status</th>\n",
       "      <th>audience_rating</th>\n",
       "      <th>audience_count</th>\n",
       "      <th>tomatometer_top_critics_count</th>\n",
       "      <th>tomatometer_fresh_critics_count</th>\n",
       "      <th>tomatometer_rotten_critics_count</th>\n",
       "      <th>audience_vs_critics</th>\n",
       "      <th>fresh_rotten</th>\n",
       "    </tr>\n",
       "  </thead>\n",
       "  <tbody>\n",
       "    <tr>\n",
       "      <th>3</th>\n",
       "      <td>m/1000013-12_angry_men</td>\n",
       "      <td>12 Angry Men (Twelve Angry Men)</td>\n",
       "      <td>Following the closing arguments in a murder tr...</td>\n",
       "      <td>Sidney Lumet's feature debut is a superbly wri...</td>\n",
       "      <td>NR</td>\n",
       "      <td>Classics, Drama</td>\n",
       "      <td>Sidney Lumet</td>\n",
       "      <td>Reginald Rose</td>\n",
       "      <td>Martin Balsam, John Fiedler, Lee J. Cobb, E.G....</td>\n",
       "      <td>1957-04-13</td>\n",
       "      <td>...</td>\n",
       "      <td>100</td>\n",
       "      <td>54</td>\n",
       "      <td>Upright</td>\n",
       "      <td>97</td>\n",
       "      <td>105386</td>\n",
       "      <td>6</td>\n",
       "      <td>54</td>\n",
       "      <td>0</td>\n",
       "      <td>3</td>\n",
       "      <td>Rotten</td>\n",
       "    </tr>\n",
       "    <tr>\n",
       "      <th>6</th>\n",
       "      <td>m/1000121-39_steps</td>\n",
       "      <td>The 39 Steps</td>\n",
       "      <td>While on vacation in London, Canadian Richard ...</td>\n",
       "      <td>Packed with twists and turns, this essential e...</td>\n",
       "      <td>NR</td>\n",
       "      <td>Action &amp; Adventure, Classics, Mystery &amp; Suspense</td>\n",
       "      <td>Alfred Hitchcock</td>\n",
       "      <td>Alma Reville, Charles Bennett, Ian Hay, Alfred...</td>\n",
       "      <td>Robert Donat, Madeleine Carroll, Godfrey Tearl...</td>\n",
       "      <td>1935-08-01</td>\n",
       "      <td>...</td>\n",
       "      <td>96</td>\n",
       "      <td>51</td>\n",
       "      <td>Upright</td>\n",
       "      <td>86</td>\n",
       "      <td>23890</td>\n",
       "      <td>8</td>\n",
       "      <td>49</td>\n",
       "      <td>2</td>\n",
       "      <td>10</td>\n",
       "      <td>Rotten</td>\n",
       "    </tr>\n",
       "    <tr>\n",
       "      <th>127</th>\n",
       "      <td>m/10008820-visitor</td>\n",
       "      <td>The Visitor</td>\n",
       "      <td>When professor Walter Vale (Richard Jenkins) t...</td>\n",
       "      <td>The Visitor is a heartfelt, humanistic drama t...</td>\n",
       "      <td>PG-13</td>\n",
       "      <td>Drama</td>\n",
       "      <td>no data</td>\n",
       "      <td>no data</td>\n",
       "      <td>Richard Jenkins, Haaz Sleiman, Danai Gurira, H...</td>\n",
       "      <td>2008-04-25</td>\n",
       "      <td>...</td>\n",
       "      <td>89</td>\n",
       "      <td>120</td>\n",
       "      <td>Upright</td>\n",
       "      <td>84</td>\n",
       "      <td>127079</td>\n",
       "      <td>30</td>\n",
       "      <td>107</td>\n",
       "      <td>13</td>\n",
       "      <td>5</td>\n",
       "      <td>Rotten</td>\n",
       "    </tr>\n",
       "    <tr>\n",
       "      <th>208</th>\n",
       "      <td>m/10010568-fuel</td>\n",
       "      <td>Fuel</td>\n",
       "      <td>Environmental activist and filmmaker Josh Tick...</td>\n",
       "      <td>no data</td>\n",
       "      <td>NR</td>\n",
       "      <td>Documentary, Special Interest</td>\n",
       "      <td>no data</td>\n",
       "      <td>Johnny O'Hara</td>\n",
       "      <td>Joshua Tickell, Richard Branson, Woody Harrels...</td>\n",
       "      <td>2008-10-17</td>\n",
       "      <td>...</td>\n",
       "      <td>72</td>\n",
       "      <td>18</td>\n",
       "      <td>Upright</td>\n",
       "      <td>82</td>\n",
       "      <td>8322</td>\n",
       "      <td>7</td>\n",
       "      <td>13</td>\n",
       "      <td>5</td>\n",
       "      <td>-10</td>\n",
       "      <td>Fresh</td>\n",
       "    </tr>\n",
       "    <tr>\n",
       "      <th>212</th>\n",
       "      <td>m/10010662-my_sisters_keeper</td>\n",
       "      <td>My Sister's Keeper</td>\n",
       "      <td>Conceived as a marrow donor for her gravely il...</td>\n",
       "      <td>My Sister's Keeper gets fine performances from...</td>\n",
       "      <td>PG-13</td>\n",
       "      <td>Drama</td>\n",
       "      <td>no data</td>\n",
       "      <td>no data</td>\n",
       "      <td>no data</td>\n",
       "      <td>2009-06-26</td>\n",
       "      <td>...</td>\n",
       "      <td>48</td>\n",
       "      <td>137</td>\n",
       "      <td>Upright</td>\n",
       "      <td>72</td>\n",
       "      <td>365345</td>\n",
       "      <td>42</td>\n",
       "      <td>66</td>\n",
       "      <td>71</td>\n",
       "      <td>-24</td>\n",
       "      <td>Rotten</td>\n",
       "    </tr>\n",
       "  </tbody>\n",
       "</table>\n",
       "<p>5 rows × 24 columns</p>\n",
       "</div>"
      ],
      "text/plain": [
       "             rotten_tomatoes_link                      movie_title  \\\n",
       "3          m/1000013-12_angry_men  12 Angry Men (Twelve Angry Men)   \n",
       "6              m/1000121-39_steps                     The 39 Steps   \n",
       "127            m/10008820-visitor                      The Visitor   \n",
       "208               m/10010568-fuel                             Fuel   \n",
       "212  m/10010662-my_sisters_keeper               My Sister's Keeper   \n",
       "\n",
       "                                            movie_info  \\\n",
       "3    Following the closing arguments in a murder tr...   \n",
       "6    While on vacation in London, Canadian Richard ...   \n",
       "127  When professor Walter Vale (Richard Jenkins) t...   \n",
       "208  Environmental activist and filmmaker Josh Tick...   \n",
       "212  Conceived as a marrow donor for her gravely il...   \n",
       "\n",
       "                                     critics_consensus content_rating  \\\n",
       "3    Sidney Lumet's feature debut is a superbly wri...             NR   \n",
       "6    Packed with twists and turns, this essential e...             NR   \n",
       "127  The Visitor is a heartfelt, humanistic drama t...          PG-13   \n",
       "208                                            no data             NR   \n",
       "212  My Sister's Keeper gets fine performances from...          PG-13   \n",
       "\n",
       "                                               genres         directors  \\\n",
       "3                                     Classics, Drama      Sidney Lumet   \n",
       "6    Action & Adventure, Classics, Mystery & Suspense  Alfred Hitchcock   \n",
       "127                                             Drama           no data   \n",
       "208                     Documentary, Special Interest           no data   \n",
       "212                                             Drama           no data   \n",
       "\n",
       "                                               authors  \\\n",
       "3                                        Reginald Rose   \n",
       "6    Alma Reville, Charles Bennett, Ian Hay, Alfred...   \n",
       "127                                            no data   \n",
       "208                                      Johnny O'Hara   \n",
       "212                                            no data   \n",
       "\n",
       "                                                actors original_release_date  \\\n",
       "3    Martin Balsam, John Fiedler, Lee J. Cobb, E.G....            1957-04-13   \n",
       "6    Robert Donat, Madeleine Carroll, Godfrey Tearl...            1935-08-01   \n",
       "127  Richard Jenkins, Haaz Sleiman, Danai Gurira, H...            2008-04-25   \n",
       "208  Joshua Tickell, Richard Branson, Woody Harrels...            2008-10-17   \n",
       "212                                            no data            2009-06-26   \n",
       "\n",
       "     ... tomatometer_rating  tomatometer_count audience_status  \\\n",
       "3    ...                100                 54         Upright   \n",
       "6    ...                 96                 51         Upright   \n",
       "127  ...                 89                120         Upright   \n",
       "208  ...                 72                 18         Upright   \n",
       "212  ...                 48                137         Upright   \n",
       "\n",
       "    audience_rating  audience_count  tomatometer_top_critics_count  \\\n",
       "3                97          105386                              6   \n",
       "6                86           23890                              8   \n",
       "127              84          127079                             30   \n",
       "208              82            8322                              7   \n",
       "212              72          365345                             42   \n",
       "\n",
       "    tomatometer_fresh_critics_count  tomatometer_rotten_critics_count  \\\n",
       "3                                54                                 0   \n",
       "6                                49                                 2   \n",
       "127                             107                                13   \n",
       "208                              13                                 5   \n",
       "212                              66                                71   \n",
       "\n",
       "     audience_vs_critics  fresh_rotten  \n",
       "3                      3        Rotten  \n",
       "6                     10        Rotten  \n",
       "127                    5        Rotten  \n",
       "208                  -10         Fresh  \n",
       "212                  -24        Rotten  \n",
       "\n",
       "[5 rows x 24 columns]"
      ]
     },
     "execution_count": 28,
     "metadata": {},
     "output_type": "execute_result"
    }
   ],
   "source": [
    "top_5.head()"
   ]
  },
  {
   "cell_type": "code",
   "execution_count": 29,
   "id": "8419da7a-93c5-4173-aa1b-d20b537cf833",
   "metadata": {},
   "outputs": [],
   "source": [
    "average_rating  = movies.groupby(\"directors\")[\"tomatometer_rating\"].mean().reset_index()"
   ]
  },
  {
   "cell_type": "code",
   "execution_count": 30,
   "id": "c85c733b-ad6b-4ada-8f94-62b9da2dbe40",
   "metadata": {},
   "outputs": [],
   "source": [
    "average_rating_5 = average_rating.sort_values(by=\"tomatometer_rating\", ascending = False)"
   ]
  },
  {
   "cell_type": "code",
   "execution_count": 31,
   "id": "d41a1206-15e0-4672-8be3-084cdaaa1b67",
   "metadata": {},
   "outputs": [
    {
     "data": {
      "text/html": [
       "<div>\n",
       "<style scoped>\n",
       "    .dataframe tbody tr th:only-of-type {\n",
       "        vertical-align: middle;\n",
       "    }\n",
       "\n",
       "    .dataframe tbody tr th {\n",
       "        vertical-align: top;\n",
       "    }\n",
       "\n",
       "    .dataframe thead th {\n",
       "        text-align: right;\n",
       "    }\n",
       "</style>\n",
       "<table border=\"1\" class=\"dataframe\">\n",
       "  <thead>\n",
       "    <tr style=\"text-align: right;\">\n",
       "      <th></th>\n",
       "      <th>directors</th>\n",
       "      <th>tomatometer_rating</th>\n",
       "    </tr>\n",
       "  </thead>\n",
       "  <tbody>\n",
       "    <tr>\n",
       "      <th>3450</th>\n",
       "      <td>Irving Pichel, Ernest B. Schoedsack</td>\n",
       "      <td>100.0</td>\n",
       "    </tr>\n",
       "    <tr>\n",
       "      <th>5865</th>\n",
       "      <td>Michael Brown</td>\n",
       "      <td>100.0</td>\n",
       "    </tr>\n",
       "    <tr>\n",
       "      <th>5907</th>\n",
       "      <td>Michael Gilio</td>\n",
       "      <td>100.0</td>\n",
       "    </tr>\n",
       "    <tr>\n",
       "      <th>469</th>\n",
       "      <td>Andrew Monument</td>\n",
       "      <td>100.0</td>\n",
       "    </tr>\n",
       "    <tr>\n",
       "      <th>7869</th>\n",
       "      <td>Soon-Mi Yoo</td>\n",
       "      <td>100.0</td>\n",
       "    </tr>\n",
       "  </tbody>\n",
       "</table>\n",
       "</div>"
      ],
      "text/plain": [
       "                                directors  tomatometer_rating\n",
       "3450  Irving Pichel, Ernest B. Schoedsack               100.0\n",
       "5865                        Michael Brown               100.0\n",
       "5907                        Michael Gilio               100.0\n",
       "469                       Andrew Monument               100.0\n",
       "7869                          Soon-Mi Yoo               100.0"
      ]
     },
     "execution_count": 31,
     "metadata": {},
     "output_type": "execute_result"
    }
   ],
   "source": [
    "average_rating_5.head(5)"
   ]
  },
  {
   "cell_type": "code",
   "execution_count": 32,
   "id": "5b4a56db-2a99-4232-913c-9bc5f4b53ac4",
   "metadata": {},
   "outputs": [
    {
     "data": {
      "image/png": "[encoded data removed]",
      "text/plain": [
       "<Figure size 2300x1000 with 1 Axes>"
      ]
     },
     "metadata": {},
     "output_type": "display_data"
    }
   ],
   "source": [
    "plt.figure(figsize = (23, 10))\n",
    "sns.barplot(data =top_5, x=\"directors\", y=\"tomatometer_rating\")\n",
    "plt.title(\"top 5 directors with the most movies\")\n",
    "plt.xlabel(\"Director\")\n",
    "plt.ylabel(\"Average Tomatometer Rating\")\n",
    "plt.show()"
   ]
  },
  {
   "cell_type": "code",
   "execution_count": 33,
   "id": "7d78dfdb-afa0-463a-a47a-9eddc0d187c8",
   "metadata": {},
   "outputs": [],
   "source": [
    "# Genre Correlation: Analyze the correlation between runtime and tomatometer_rating for different genres."
   ]
  },
  {
   "cell_type": "code",
   "execution_count": 34,
   "id": "1ab7eeac-47ba-473a-a07a-b53d17ba2096",
   "metadata": {},
   "outputs": [],
   "source": [
    "Genre_corr = movies[\"runtime\"].corr(movies[\"tomatometer_rating\"])"
   ]
  },
  {
   "cell_type": "code",
   "execution_count": 35,
   "id": "7e32124b-5dbd-4cb0-8f4a-e9d85cce0ed7",
   "metadata": {},
   "outputs": [
    {
     "data": {
      "text/plain": [
       "np.float64(0.05524872051480806)"
      ]
     },
     "execution_count": 35,
     "metadata": {},
     "output_type": "execute_result"
    }
   ],
   "source": [
    "Genre_corr"
   ]
  },
  {
   "cell_type": "code",
   "execution_count": 36,
   "id": "509cde85-9248-49f0-a74e-c21a6a1bff28",
   "metadata": {},
   "outputs": [],
   "source": [
    "# Interpreting 0.055: \n",
    "# A value close to 0, like 0.055, suggests very weak or negligible correlation between runtime and tomatometer_rating. \n",
    "# Essentially, this means there is little to no linear relationship between  runtime and tomatometer_rating."
   ]
  },
  {
   "cell_type": "code",
   "execution_count": 37,
   "id": "040a73b0-d4f6-4c07-b1bf-b313b1192f53",
   "metadata": {},
   "outputs": [],
   "source": [
    "# Review Trends: Plot the number of reviews submitted per year."
   ]
  },
  {
   "cell_type": "code",
   "execution_count": 38,
   "id": "0616dfef-a581-408c-a818-a5573b3fad4f",
   "metadata": {},
   "outputs": [
    {
     "data": {
      "text/html": [
       "<div>\n",
       "<style scoped>\n",
       "    .dataframe tbody tr th:only-of-type {\n",
       "        vertical-align: middle;\n",
       "    }\n",
       "\n",
       "    .dataframe tbody tr th {\n",
       "        vertical-align: top;\n",
       "    }\n",
       "\n",
       "    .dataframe thead th {\n",
       "        text-align: right;\n",
       "    }\n",
       "</style>\n",
       "<table border=\"1\" class=\"dataframe\">\n",
       "  <thead>\n",
       "    <tr style=\"text-align: right;\">\n",
       "      <th></th>\n",
       "      <th>rotten_tomatoes_link</th>\n",
       "      <th>critic_name</th>\n",
       "      <th>top_critic</th>\n",
       "      <th>publisher_name</th>\n",
       "      <th>review_type</th>\n",
       "      <th>review_date</th>\n",
       "      <th>review_content</th>\n",
       "    </tr>\n",
       "  </thead>\n",
       "  <tbody>\n",
       "    <tr>\n",
       "      <th>0</th>\n",
       "      <td>m/0814255</td>\n",
       "      <td>Andrew L. Urban</td>\n",
       "      <td>False</td>\n",
       "      <td>Urban Cinefile</td>\n",
       "      <td>Fresh</td>\n",
       "      <td>2/6/2010</td>\n",
       "      <td>A fantasy adventure that fuses Greek mythology...</td>\n",
       "    </tr>\n",
       "    <tr>\n",
       "      <th>1</th>\n",
       "      <td>m/0814255</td>\n",
       "      <td>Louise Keller</td>\n",
       "      <td>False</td>\n",
       "      <td>Urban Cinefile</td>\n",
       "      <td>Fresh</td>\n",
       "      <td>2/6/2010</td>\n",
       "      <td>Uma Thurman as Medusa, the gorgon with a coiff...</td>\n",
       "    </tr>\n",
       "    <tr>\n",
       "      <th>2</th>\n",
       "      <td>m/0814255</td>\n",
       "      <td>no data</td>\n",
       "      <td>False</td>\n",
       "      <td>FILMINK (Australia)</td>\n",
       "      <td>Fresh</td>\n",
       "      <td>2/9/2010</td>\n",
       "      <td>With a top-notch cast and dazzling special eff...</td>\n",
       "    </tr>\n",
       "    <tr>\n",
       "      <th>3</th>\n",
       "      <td>m/0814255</td>\n",
       "      <td>Ben McEachen</td>\n",
       "      <td>False</td>\n",
       "      <td>Sunday Mail (Australia)</td>\n",
       "      <td>Fresh</td>\n",
       "      <td>2/9/2010</td>\n",
       "      <td>Whether audiences will get behind The Lightnin...</td>\n",
       "    </tr>\n",
       "    <tr>\n",
       "      <th>4</th>\n",
       "      <td>m/0814255</td>\n",
       "      <td>Ethan Alter</td>\n",
       "      <td>True</td>\n",
       "      <td>Hollywood Reporter</td>\n",
       "      <td>Rotten</td>\n",
       "      <td>2/10/2010</td>\n",
       "      <td>What's really lacking in The Lightning Thief i...</td>\n",
       "    </tr>\n",
       "  </tbody>\n",
       "</table>\n",
       "</div>"
      ],
      "text/plain": [
       "  rotten_tomatoes_link      critic_name  top_critic           publisher_name  \\\n",
       "0            m/0814255  Andrew L. Urban       False           Urban Cinefile   \n",
       "1            m/0814255    Louise Keller       False           Urban Cinefile   \n",
       "2            m/0814255          no data       False      FILMINK (Australia)   \n",
       "3            m/0814255     Ben McEachen       False  Sunday Mail (Australia)   \n",
       "4            m/0814255      Ethan Alter        True       Hollywood Reporter   \n",
       "\n",
       "  review_type review_date                                     review_content  \n",
       "0       Fresh    2/6/2010  A fantasy adventure that fuses Greek mythology...  \n",
       "1       Fresh    2/6/2010  Uma Thurman as Medusa, the gorgon with a coiff...  \n",
       "2       Fresh    2/9/2010  With a top-notch cast and dazzling special eff...  \n",
       "3       Fresh    2/9/2010  Whether audiences will get behind The Lightnin...  \n",
       "4      Rotten   2/10/2010  What's really lacking in The Lightning Thief i...  "
      ]
     },
     "execution_count": 38,
     "metadata": {},
     "output_type": "execute_result"
    }
   ],
   "source": [
    "critic_reviews.head()"
   ]
  },
  {
   "cell_type": "code",
   "execution_count": 39,
   "id": "4b8ebaeb-5624-4aa4-91de-154b2965122d",
   "metadata": {},
   "outputs": [],
   "source": [
    "critic_reviews[\"review_date\"] = pd.to_datetime(critic_reviews[\"review_date\"], errors=\"coerce\")"
   ]
  },
  {
   "cell_type": "code",
   "execution_count": 40,
   "id": "9d9fbee6-865d-4eea-8d03-64d53866c87a",
   "metadata": {},
   "outputs": [],
   "source": [
    "critic_reviews[\"year\"] = critic_reviews[\"review_date\"].dt.year"
   ]
  },
  {
   "cell_type": "code",
   "execution_count": 41,
   "id": "4de8ec70-56ad-4b81-8fb7-f4947f727eb6",
   "metadata": {},
   "outputs": [],
   "source": [
    "reviews_per_year = critic_reviews.groupby(\"year\").size().reset_index(name=\"count\")"
   ]
  },
  {
   "cell_type": "code",
   "execution_count": 42,
   "id": "d34d71aa-fe76-44d1-9983-8769bf9e4255",
   "metadata": {},
   "outputs": [],
   "source": [
    "last_10 = reviews_per_year.tail(10)"
   ]
  },
  {
   "cell_type": "code",
   "execution_count": 43,
   "id": "3b1c9695-5e91-4447-8460-52ceb61f912f",
   "metadata": {},
   "outputs": [
    {
     "data": {
      "text/html": [
       "<div>\n",
       "<style scoped>\n",
       "    .dataframe tbody tr th:only-of-type {\n",
       "        vertical-align: middle;\n",
       "    }\n",
       "\n",
       "    .dataframe tbody tr th {\n",
       "        vertical-align: top;\n",
       "    }\n",
       "\n",
       "    .dataframe thead th {\n",
       "        text-align: right;\n",
       "    }\n",
       "</style>\n",
       "<table border=\"1\" class=\"dataframe\">\n",
       "  <thead>\n",
       "    <tr style=\"text-align: right;\">\n",
       "      <th></th>\n",
       "      <th>year</th>\n",
       "      <th>count</th>\n",
       "    </tr>\n",
       "  </thead>\n",
       "  <tbody>\n",
       "    <tr>\n",
       "      <th>77</th>\n",
       "      <td>2011.0</td>\n",
       "      <td>50184</td>\n",
       "    </tr>\n",
       "    <tr>\n",
       "      <th>78</th>\n",
       "      <td>2012.0</td>\n",
       "      <td>48500</td>\n",
       "    </tr>\n",
       "    <tr>\n",
       "      <th>79</th>\n",
       "      <td>2013.0</td>\n",
       "      <td>50860</td>\n",
       "    </tr>\n",
       "    <tr>\n",
       "      <th>80</th>\n",
       "      <td>2014.0</td>\n",
       "      <td>47237</td>\n",
       "    </tr>\n",
       "    <tr>\n",
       "      <th>81</th>\n",
       "      <td>2015.0</td>\n",
       "      <td>51533</td>\n",
       "    </tr>\n",
       "    <tr>\n",
       "      <th>82</th>\n",
       "      <td>2016.0</td>\n",
       "      <td>54312</td>\n",
       "    </tr>\n",
       "    <tr>\n",
       "      <th>83</th>\n",
       "      <td>2017.0</td>\n",
       "      <td>56198</td>\n",
       "    </tr>\n",
       "    <tr>\n",
       "      <th>84</th>\n",
       "      <td>2018.0</td>\n",
       "      <td>70883</td>\n",
       "    </tr>\n",
       "    <tr>\n",
       "      <th>85</th>\n",
       "      <td>2019.0</td>\n",
       "      <td>75655</td>\n",
       "    </tr>\n",
       "    <tr>\n",
       "      <th>86</th>\n",
       "      <td>2020.0</td>\n",
       "      <td>42357</td>\n",
       "    </tr>\n",
       "  </tbody>\n",
       "</table>\n",
       "</div>"
      ],
      "text/plain": [
       "      year  count\n",
       "77  2011.0  50184\n",
       "78  2012.0  48500\n",
       "79  2013.0  50860\n",
       "80  2014.0  47237\n",
       "81  2015.0  51533\n",
       "82  2016.0  54312\n",
       "83  2017.0  56198\n",
       "84  2018.0  70883\n",
       "85  2019.0  75655\n",
       "86  2020.0  42357"
      ]
     },
     "execution_count": 43,
     "metadata": {},
     "output_type": "execute_result"
    }
   ],
   "source": [
    "last_10"
   ]
  },
  {
   "cell_type": "code",
   "execution_count": 44,
   "id": "0b1f999b-6cde-4193-89ad-d3771ee2c09a",
   "metadata": {},
   "outputs": [
    {
     "data": {
      "image/png": "[encoded data removed]",
      "text/plain": [
       "<Figure size 2300x1000 with 1 Axes>"
      ]
     },
     "metadata": {},
     "output_type": "display_data"
    }
   ],
   "source": [
    "plt.figure(figsize = (23, 10))\n",
    "sns.barplot(data = last_10, x = \"year\", y=\"count\")\n",
    "plt.title(\"number of reviews submitted per year\")\n",
    "plt.xlabel(\"year\")\n",
    "plt.ylabel(\"number of reviews\")\n",
    "plt.show()"
   ]
  },
  {
   "cell_type": "code",
   "execution_count": 45,
   "id": "a46450d1-727d-4a55-9c3a-adccb881df1f",
   "metadata": {},
   "outputs": [],
   "source": [
    "# Audience/Rating Gap: Identify movies with the biggest difference between audience_rating and tomatometer_rating."
   ]
  },
  {
   "cell_type": "code",
   "execution_count": 46,
   "id": "743b4411-a986-450e-834a-e40a2bb95868",
   "metadata": {},
   "outputs": [
    {
     "data": {
      "text/plain": [
       "Index(['rotten_tomatoes_link', 'movie_title', 'movie_info',\n",
       "       'critics_consensus', 'content_rating', 'genres', 'directors', 'authors',\n",
       "       'actors', 'original_release_date', 'streaming_release_date', 'runtime',\n",
       "       'production_company', 'tomatometer_status', 'tomatometer_rating',\n",
       "       'tomatometer_count', 'audience_status', 'audience_rating',\n",
       "       'audience_count', 'tomatometer_top_critics_count',\n",
       "       'tomatometer_fresh_critics_count', 'tomatometer_rotten_critics_count',\n",
       "       'audience_vs_critics', 'fresh_rotten'],\n",
       "      dtype='object')"
      ]
     },
     "execution_count": 46,
     "metadata": {},
     "output_type": "execute_result"
    }
   ],
   "source": [
    "movies.columns"
   ]
  },
  {
   "cell_type": "code",
   "execution_count": 47,
   "id": "f772edb1-e9a9-49f5-90a6-c4b5275ba1c6",
   "metadata": {},
   "outputs": [],
   "source": [
    "movies[\"difference\"] = abs(movies[\"audience_rating\"] - movies[\"tomatometer_rating\"])"
   ]
  },
  {
   "cell_type": "code",
   "execution_count": 48,
   "id": "7384d92c-f5e7-4b2f-a45f-f10372d3d849",
   "metadata": {},
   "outputs": [],
   "source": [
    "difference_data = movies [\"difference\"].apply(lambda x: \"Yes\" if x>50 else \"No\")"
   ]
  },
  {
   "cell_type": "code",
   "execution_count": 49,
   "id": "c4e63a58-37d3-4f3a-99dc-cf0c7a196dcf",
   "metadata": {},
   "outputs": [
    {
     "data": {
      "text/plain": [
       "difference\n",
       "No     17078\n",
       "Yes      634\n",
       "Name: count, dtype: int64"
      ]
     },
     "execution_count": 49,
     "metadata": {},
     "output_type": "execute_result"
    }
   ],
   "source": [
    "difference_data.value_counts()"
   ]
  },
  {
   "cell_type": "code",
   "execution_count": 50,
   "id": "5405ffc1-3177-46d9-86f2-dc2d2012074a",
   "metadata": {},
   "outputs": [],
   "source": [
    "# Outliers Detection: Identify movies where the tomatometer_rating is significantly higher or lower than average (e.g., z-score > 2)."
   ]
  },
  {
   "cell_type": "code",
   "execution_count": 82,
   "id": "bcd47dbf-9e2e-4d3c-8158-65b0229835b7",
   "metadata": {},
   "outputs": [],
   "source": [
    "tomatometer_rating_avg = movies[\"tomatometer_rating\"].mean()"
   ]
  },
  {
   "cell_type": "code",
   "execution_count": 84,
   "id": "efbb1d33-b373-4979-8fe6-9f9691a6d536",
   "metadata": {},
   "outputs": [
    {
     "data": {
      "text/plain": [
       "np.float64(60.73351400180668)"
      ]
     },
     "execution_count": 84,
     "metadata": {},
     "output_type": "execute_result"
    }
   ],
   "source": [
    "tomatometer_rating_avg"
   ]
  },
  {
   "cell_type": "code",
   "execution_count": 86,
   "id": "5a32435d-9fa1-43ad-a117-bf189d4f3bb4",
   "metadata": {},
   "outputs": [
    {
     "ename": "KeyError",
     "evalue": "'tomatometer_rating_avg'",
     "output_type": "error",
     "traceback": [
      "\u001b[1;31m---------------------------------------------------------------------------\u001b[0m",
      "\u001b[1;31mKeyError\u001b[0m                                  Traceback (most recent call last)",
      "File \u001b[1;32m~\\AppData\\Local\\Programs\\Python\\Python313\\Lib\\site-packages\\pandas\\core\\indexes\\base.py:3805\u001b[0m, in \u001b[0;36mIndex.get_loc\u001b[1;34m(self, key)\u001b[0m\n\u001b[0;32m   3804\u001b[0m \u001b[38;5;28;01mtry\u001b[39;00m:\n\u001b[1;32m-> 3805\u001b[0m     \u001b[38;5;28;01mreturn\u001b[39;00m \u001b[38;5;28;43mself\u001b[39;49m\u001b[38;5;241;43m.\u001b[39;49m\u001b[43m_engine\u001b[49m\u001b[38;5;241;43m.\u001b[39;49m\u001b[43mget_loc\u001b[49m\u001b[43m(\u001b[49m\u001b[43mcasted_key\u001b[49m\u001b[43m)\u001b[49m\n\u001b[0;32m   3806\u001b[0m \u001b[38;5;28;01mexcept\u001b[39;00m \u001b[38;5;167;01mKeyError\u001b[39;00m \u001b[38;5;28;01mas\u001b[39;00m err:\n",
      "File \u001b[1;32mindex.pyx:167\u001b[0m, in \u001b[0;36mpandas._libs.index.IndexEngine.get_loc\u001b[1;34m()\u001b[0m\n",
      "File \u001b[1;32mindex.pyx:196\u001b[0m, in \u001b[0;36mpandas._libs.index.IndexEngine.get_loc\u001b[1;34m()\u001b[0m\n",
      "File \u001b[1;32mpandas\\\\_libs\\\\hashtable_class_helper.pxi:7081\u001b[0m, in \u001b[0;36mpandas._libs.hashtable.PyObjectHashTable.get_item\u001b[1;34m()\u001b[0m\n",
      "File \u001b[1;32mpandas\\\\_libs\\\\hashtable_class_helper.pxi:7089\u001b[0m, in \u001b[0;36mpandas._libs.hashtable.PyObjectHashTable.get_item\u001b[1;34m()\u001b[0m\n",
      "\u001b[1;31mKeyError\u001b[0m: 'tomatometer_rating_avg'",
      "\nThe above exception was the direct cause of the following exception:\n",
      "\u001b[1;31mKeyError\u001b[0m                                  Traceback (most recent call last)",
      "Cell \u001b[1;32mIn[86], line 1\u001b[0m\n\u001b[1;32m----> 1\u001b[0m rating_outliers \u001b[38;5;241m=\u001b[39m \u001b[43mmovies\u001b[49m\u001b[43m[\u001b[49m\u001b[38;5;124;43m\"\u001b[39;49m\u001b[38;5;124;43mtomatometer_rating_avg\u001b[39;49m\u001b[38;5;124;43m\"\u001b[39;49m\u001b[43m]\u001b[49m\u001b[38;5;241m.\u001b[39mapply(\u001b[38;5;28;01mlambda\u001b[39;00m x: \u001b[38;5;124m\"\u001b[39m\u001b[38;5;124mHigh\u001b[39m\u001b[38;5;124m\"\u001b[39m \u001b[38;5;28;01mif\u001b[39;00m x\u001b[38;5;241m>\u001b[39m\u001b[38;5;241m=\u001b[39m \u001b[38;5;241m60.7335140018067\u001b[39m \u001b[38;5;28;01melse\u001b[39;00m \u001b[38;5;124m\"\u001b[39m\u001b[38;5;124mLow\u001b[39m\u001b[38;5;124m\"\u001b[39m)\n",
      "File \u001b[1;32m~\\AppData\\Local\\Programs\\Python\\Python313\\Lib\\site-packages\\pandas\\core\\frame.py:4102\u001b[0m, in \u001b[0;36mDataFrame.__getitem__\u001b[1;34m(self, key)\u001b[0m\n\u001b[0;32m   4100\u001b[0m \u001b[38;5;28;01mif\u001b[39;00m \u001b[38;5;28mself\u001b[39m\u001b[38;5;241m.\u001b[39mcolumns\u001b[38;5;241m.\u001b[39mnlevels \u001b[38;5;241m>\u001b[39m \u001b[38;5;241m1\u001b[39m:\n\u001b[0;32m   4101\u001b[0m     \u001b[38;5;28;01mreturn\u001b[39;00m \u001b[38;5;28mself\u001b[39m\u001b[38;5;241m.\u001b[39m_getitem_multilevel(key)\n\u001b[1;32m-> 4102\u001b[0m indexer \u001b[38;5;241m=\u001b[39m \u001b[38;5;28;43mself\u001b[39;49m\u001b[38;5;241;43m.\u001b[39;49m\u001b[43mcolumns\u001b[49m\u001b[38;5;241;43m.\u001b[39;49m\u001b[43mget_loc\u001b[49m\u001b[43m(\u001b[49m\u001b[43mkey\u001b[49m\u001b[43m)\u001b[49m\n\u001b[0;32m   4103\u001b[0m \u001b[38;5;28;01mif\u001b[39;00m is_integer(indexer):\n\u001b[0;32m   4104\u001b[0m     indexer \u001b[38;5;241m=\u001b[39m [indexer]\n",
      "File \u001b[1;32m~\\AppData\\Local\\Programs\\Python\\Python313\\Lib\\site-packages\\pandas\\core\\indexes\\base.py:3812\u001b[0m, in \u001b[0;36mIndex.get_loc\u001b[1;34m(self, key)\u001b[0m\n\u001b[0;32m   3807\u001b[0m     \u001b[38;5;28;01mif\u001b[39;00m \u001b[38;5;28misinstance\u001b[39m(casted_key, \u001b[38;5;28mslice\u001b[39m) \u001b[38;5;129;01mor\u001b[39;00m (\n\u001b[0;32m   3808\u001b[0m         \u001b[38;5;28misinstance\u001b[39m(casted_key, abc\u001b[38;5;241m.\u001b[39mIterable)\n\u001b[0;32m   3809\u001b[0m         \u001b[38;5;129;01mand\u001b[39;00m \u001b[38;5;28many\u001b[39m(\u001b[38;5;28misinstance\u001b[39m(x, \u001b[38;5;28mslice\u001b[39m) \u001b[38;5;28;01mfor\u001b[39;00m x \u001b[38;5;129;01min\u001b[39;00m casted_key)\n\u001b[0;32m   3810\u001b[0m     ):\n\u001b[0;32m   3811\u001b[0m         \u001b[38;5;28;01mraise\u001b[39;00m InvalidIndexError(key)\n\u001b[1;32m-> 3812\u001b[0m     \u001b[38;5;28;01mraise\u001b[39;00m \u001b[38;5;167;01mKeyError\u001b[39;00m(key) \u001b[38;5;28;01mfrom\u001b[39;00m \u001b[38;5;21;01merr\u001b[39;00m\n\u001b[0;32m   3813\u001b[0m \u001b[38;5;28;01mexcept\u001b[39;00m \u001b[38;5;167;01mTypeError\u001b[39;00m:\n\u001b[0;32m   3814\u001b[0m     \u001b[38;5;66;03m# If we have a listlike key, _check_indexing_error will raise\u001b[39;00m\n\u001b[0;32m   3815\u001b[0m     \u001b[38;5;66;03m#  InvalidIndexError. Otherwise we fall through and re-raise\u001b[39;00m\n\u001b[0;32m   3816\u001b[0m     \u001b[38;5;66;03m#  the TypeError.\u001b[39;00m\n\u001b[0;32m   3817\u001b[0m     \u001b[38;5;28mself\u001b[39m\u001b[38;5;241m.\u001b[39m_check_indexing_error(key)\n",
      "\u001b[1;31mKeyError\u001b[0m: 'tomatometer_rating_avg'"
     ]
    }
   ],
   "source": [
    "rating_outliers = movies[\"tomatometer_rating_avg\"].apply(lambda x: \"High\" if x>= 60.7335140018067 else \"Low\")"
   ]
  },
  {
   "cell_type": "code",
   "execution_count": 87,
   "id": "9a700067-0683-4b36-8e59-c9107ae9b671",
   "metadata": {},
   "outputs": [
    {
     "data": {
      "text/plain": [
       "tomatometer_rating_avg\n",
       "Low    17712\n",
       "Name: count, dtype: int64"
      ]
     },
     "execution_count": 87,
     "metadata": {},
     "output_type": "execute_result"
    }
   ],
   "source": [
    "rating_outliers.value_counts()"
   ]
  },
  {
   "cell_type": "code",
   "execution_count": 88,
   "id": "5a387810-617d-455d-aa29-e71bf94aa230",
   "metadata": {},
   "outputs": [
    {
     "data": {
      "text/plain": [
       "0    Low\n",
       "1    Low\n",
       "2    Low\n",
       "3    Low\n",
       "4    Low\n",
       "5    Low\n",
       "6    Low\n",
       "7    Low\n",
       "8    Low\n",
       "9    Low\n",
       "Name: tomatometer_rating_avg, dtype: object"
      ]
     },
     "execution_count": 88,
     "metadata": {},
     "output_type": "execute_result"
    }
   ],
   "source": [
    "rating_outliers.head(10)"
   ]
  },
  {
   "cell_type": "code",
   "execution_count": null,
   "id": "32a163f4-4bb1-4085-8d40-8195998518a7",
   "metadata": {},
   "outputs": [],
   "source": [
    "# Critic Review Length: Analyze the average word count of review_content and its relationship with review_score."
   ]
  },
  {
   "cell_type": "code",
   "execution_count": 89,
   "id": "da802cc6-806d-41cd-b528-ffa30b5dc349",
   "metadata": {},
   "outputs": [
    {
     "data": {
      "text/html": [
       "<div>\n",
       "<style scoped>\n",
       "    .dataframe tbody tr th:only-of-type {\n",
       "        vertical-align: middle;\n",
       "    }\n",
       "\n",
       "    .dataframe tbody tr th {\n",
       "        vertical-align: top;\n",
       "    }\n",
       "\n",
       "    .dataframe thead th {\n",
       "        text-align: right;\n",
       "    }\n",
       "</style>\n",
       "<table border=\"1\" class=\"dataframe\">\n",
       "  <thead>\n",
       "    <tr style=\"text-align: right;\">\n",
       "      <th></th>\n",
       "      <th>rotten_tomatoes_link</th>\n",
       "      <th>critic_name</th>\n",
       "      <th>top_critic</th>\n",
       "      <th>publisher_name</th>\n",
       "      <th>review_type</th>\n",
       "      <th>review_date</th>\n",
       "      <th>review_content</th>\n",
       "    </tr>\n",
       "  </thead>\n",
       "  <tbody>\n",
       "    <tr>\n",
       "      <th>0</th>\n",
       "      <td>m/0814255</td>\n",
       "      <td>Andrew L. Urban</td>\n",
       "      <td>False</td>\n",
       "      <td>Urban Cinefile</td>\n",
       "      <td>Fresh</td>\n",
       "      <td>2/6/2010</td>\n",
       "      <td>A fantasy adventure that fuses Greek mythology...</td>\n",
       "    </tr>\n",
       "    <tr>\n",
       "      <th>1</th>\n",
       "      <td>m/0814255</td>\n",
       "      <td>Louise Keller</td>\n",
       "      <td>False</td>\n",
       "      <td>Urban Cinefile</td>\n",
       "      <td>Fresh</td>\n",
       "      <td>2/6/2010</td>\n",
       "      <td>Uma Thurman as Medusa, the gorgon with a coiff...</td>\n",
       "    </tr>\n",
       "    <tr>\n",
       "      <th>2</th>\n",
       "      <td>m/0814255</td>\n",
       "      <td>no data</td>\n",
       "      <td>False</td>\n",
       "      <td>FILMINK (Australia)</td>\n",
       "      <td>Fresh</td>\n",
       "      <td>2/9/2010</td>\n",
       "      <td>With a top-notch cast and dazzling special eff...</td>\n",
       "    </tr>\n",
       "    <tr>\n",
       "      <th>3</th>\n",
       "      <td>m/0814255</td>\n",
       "      <td>Ben McEachen</td>\n",
       "      <td>False</td>\n",
       "      <td>Sunday Mail (Australia)</td>\n",
       "      <td>Fresh</td>\n",
       "      <td>2/9/2010</td>\n",
       "      <td>Whether audiences will get behind The Lightnin...</td>\n",
       "    </tr>\n",
       "    <tr>\n",
       "      <th>4</th>\n",
       "      <td>m/0814255</td>\n",
       "      <td>Ethan Alter</td>\n",
       "      <td>True</td>\n",
       "      <td>Hollywood Reporter</td>\n",
       "      <td>Rotten</td>\n",
       "      <td>2/10/2010</td>\n",
       "      <td>What's really lacking in The Lightning Thief i...</td>\n",
       "    </tr>\n",
       "  </tbody>\n",
       "</table>\n",
       "</div>"
      ],
      "text/plain": [
       "  rotten_tomatoes_link      critic_name  top_critic           publisher_name  \\\n",
       "0            m/0814255  Andrew L. Urban       False           Urban Cinefile   \n",
       "1            m/0814255    Louise Keller       False           Urban Cinefile   \n",
       "2            m/0814255          no data       False      FILMINK (Australia)   \n",
       "3            m/0814255     Ben McEachen       False  Sunday Mail (Australia)   \n",
       "4            m/0814255      Ethan Alter        True       Hollywood Reporter   \n",
       "\n",
       "  review_type review_date                                     review_content  \n",
       "0       Fresh    2/6/2010  A fantasy adventure that fuses Greek mythology...  \n",
       "1       Fresh    2/6/2010  Uma Thurman as Medusa, the gorgon with a coiff...  \n",
       "2       Fresh    2/9/2010  With a top-notch cast and dazzling special eff...  \n",
       "3       Fresh    2/9/2010  Whether audiences will get behind The Lightnin...  \n",
       "4      Rotten   2/10/2010  What's really lacking in The Lightning Thief i...  "
      ]
     },
     "execution_count": 89,
     "metadata": {},
     "output_type": "execute_result"
    }
   ],
   "source": [
    "critic_reviews.head()"
   ]
  },
  {
   "cell_type": "code",
   "execution_count": 90,
   "id": "48e76502-5b14-420c-b504-3a57ffd9dea7",
   "metadata": {},
   "outputs": [],
   "source": [
    "average_word_length = critic_reviews[\"review_content\"].apply(lambda x: sum(len(word) for word in x.split()) / len (x.split()) if x.split() else 0).mean()"
   ]
  },
  {
   "cell_type": "code",
   "execution_count": 91,
   "id": "d536fc40-b23b-4f73-a5f6-6fd5ba196a47",
   "metadata": {},
   "outputs": [
    {
     "data": {
      "text/plain": [
       "np.float64(5.042009813108776)"
      ]
     },
     "execution_count": 91,
     "metadata": {},
     "output_type": "execute_result"
    }
   ],
   "source": [
    "average_word_length"
   ]
  },
  {
   "cell_type": "code",
   "execution_count": 92,
   "id": "94ce482d-a8bc-40f4-84f6-3f59cdc74bb3",
   "metadata": {},
   "outputs": [],
   "source": [
    "# 1. Which movie has the most audience?"
   ]
  },
  {
   "cell_type": "code",
   "execution_count": 93,
   "id": "073b9f91-c727-47b1-a823-0d3460bdd803",
   "metadata": {},
   "outputs": [],
   "source": [
    "movie_with_most_audience = movies.loc[movies[\"audience_count\"].idxmax()]"
   ]
  },
  {
   "cell_type": "code",
   "execution_count": 94,
   "id": "4a11be45-30f0-4f59-8c97-0d376aaa94e7",
   "metadata": {},
   "outputs": [
    {
     "data": {
      "text/plain": [
       "rotten_tomatoes_link                                                        m/titanic\n",
       "movie_title                                                                   Titanic\n",
       "movie_info                          James Cameron's \"Titanic\" is an epic, action-p...\n",
       "critics_consensus                   A mostly unqualified triumph for James Cameron...\n",
       "content_rating                                                                  PG-13\n",
       "genres                                                                 Drama, Romance\n",
       "directors                                                               James Cameron\n",
       "authors                                                                 James Cameron\n",
       "actors                              Leonardo DiCaprio, Kate Winslet, Billy Zane, K...\n",
       "original_release_date                                                      1997-12-19\n",
       "streaming_release_date                                                     2014-06-01\n",
       "runtime                                                                           195\n",
       "production_company                                                 Paramount Pictures\n",
       "tomatometer_status                                                    Certified-Fresh\n",
       "tomatometer_rating                                                                 89\n",
       "tomatometer_count                                                                 192\n",
       "audience_status                                                               Upright\n",
       "audience_rating                                                                    69\n",
       "audience_count                                                               35797635\n",
       "tomatometer_top_critics_count                                                      62\n",
       "tomatometer_fresh_critics_count                                                   171\n",
       "tomatometer_rotten_critics_count                                                   21\n",
       "audience_vs_critics                                                                20\n",
       "Name: 16297, dtype: object"
      ]
     },
     "execution_count": 94,
     "metadata": {},
     "output_type": "execute_result"
    }
   ],
   "source": [
    "movie_with_most_audience"
   ]
  },
  {
   "cell_type": "code",
   "execution_count": 95,
   "id": "de4d00d0-23a9-49bd-bc0a-cd50772fae9c",
   "metadata": {},
   "outputs": [],
   "source": [
    "# Which movie has the highest critics rating (Tomatometer Rating)?"
   ]
  },
  {
   "cell_type": "code",
   "execution_count": 96,
   "id": "630f26ba-902c-4d5c-985a-98109f1459a8",
   "metadata": {},
   "outputs": [],
   "source": [
    "movie_with_highest_critics_rating = movies.loc[movies[\"tomatometer_rating\"].idxmax()]"
   ]
  },
  {
   "cell_type": "code",
   "execution_count": 97,
   "id": "c82f00d7-c1cd-4455-8822-8225ddceadc5",
   "metadata": {},
   "outputs": [
    {
     "data": {
      "text/plain": [
       "rotten_tomatoes_link                                           m/1000013-12_angry_men\n",
       "movie_title                                           12 Angry Men (Twelve Angry Men)\n",
       "movie_info                          Following the closing arguments in a murder tr...\n",
       "critics_consensus                   Sidney Lumet's feature debut is a superbly wri...\n",
       "content_rating                                                                     NR\n",
       "genres                                                                Classics, Drama\n",
       "directors                                                                Sidney Lumet\n",
       "authors                                                                 Reginald Rose\n",
       "actors                              Martin Balsam, John Fiedler, Lee J. Cobb, E.G....\n",
       "original_release_date                                                      1957-04-13\n",
       "streaming_release_date                                                     2017-01-13\n",
       "runtime                                                                            95\n",
       "production_company                                               Criterion Collection\n",
       "tomatometer_status                                                    Certified-Fresh\n",
       "tomatometer_rating                                                                100\n",
       "tomatometer_count                                                                  54\n",
       "audience_status                                                               Upright\n",
       "audience_rating                                                                    97\n",
       "audience_count                                                                 105386\n",
       "tomatometer_top_critics_count                                                       6\n",
       "tomatometer_fresh_critics_count                                                    54\n",
       "tomatometer_rotten_critics_count                                                    0\n",
       "audience_vs_critics                                                                 3\n",
       "Name: 3, dtype: object"
      ]
     },
     "execution_count": 97,
     "metadata": {},
     "output_type": "execute_result"
    }
   ],
   "source": [
    "movie_with_highest_critics_rating"
   ]
  },
  {
   "cell_type": "code",
   "execution_count": 98,
   "id": "85cdeb9b-1901-4f7b-b325-b066b9dd0296",
   "metadata": {},
   "outputs": [],
   "source": [
    "# 3. Which movie has the highest number of critics?"
   ]
  },
  {
   "cell_type": "code",
   "execution_count": 99,
   "id": "827a15b2-15c2-417e-ab7e-5c994d43915c",
   "metadata": {},
   "outputs": [],
   "source": [
    "movies_with_highest_tomatometer_rotten_critics_count = movies.loc[movies[\"tomatometer_rotten_critics_count\"].idxmax()]"
   ]
  },
  {
   "cell_type": "code",
   "execution_count": 100,
   "id": "e19b5ef9-d314-4585-bd1c-ab3a1d738bef",
   "metadata": {},
   "outputs": [
    {
     "data": {
      "text/plain": [
       "rotten_tomatoes_link                              m/batman_v_superman_dawn_of_justice\n",
       "movie_title                                        Batman v Superman: Dawn of Justice\n",
       "movie_info                          It's been nearly two years since Superman's (H...\n",
       "critics_consensus                   Batman v Superman: Dawn of Justice smothers a ...\n",
       "content_rating                                                                  PG-13\n",
       "genres                                  Action & Adventure, Science Fiction & Fantasy\n",
       "directors                                                                 Zack Snyder\n",
       "authors                                     Zack Snyder, David S. Goyer, Chris Terrio\n",
       "actors                              Ben Affleck, Henry Cavill, Amy Adams, Diane La...\n",
       "original_release_date                                                      2016-03-23\n",
       "streaming_release_date                                                     2016-11-25\n",
       "runtime                                                                           153\n",
       "production_company                                              Warner Bros. Pictures\n",
       "tomatometer_status                                                             Rotten\n",
       "tomatometer_rating                                                                 28\n",
       "tomatometer_count                                                                 423\n",
       "audience_status                                                               Upright\n",
       "audience_rating                                                                    62\n",
       "audience_count                                                                 234935\n",
       "tomatometer_top_critics_count                                                      63\n",
       "tomatometer_fresh_critics_count                                                   120\n",
       "tomatometer_rotten_critics_count                                                  303\n",
       "audience_vs_critics                                                               -34\n",
       "Name: 3243, dtype: object"
      ]
     },
     "execution_count": 100,
     "metadata": {},
     "output_type": "execute_result"
    }
   ],
   "source": [
    "movies_with_highest_tomatometer_rotten_critics_count"
   ]
  },
  {
   "cell_type": "code",
   "execution_count": 101,
   "id": "1b68ff64-2fd3-4f73-bb77-23f190c4e60f",
   "metadata": {},
   "outputs": [],
   "source": [
    "# Who is the top publisher with review?"
   ]
  },
  {
   "cell_type": "code",
   "execution_count": 102,
   "id": "7cc19421-fb88-4709-84ff-78a7fdc34568",
   "metadata": {},
   "outputs": [],
   "source": [
    "top_publisher = critic_reviews[\"publisher_name\"].value_counts()"
   ]
  },
  {
   "cell_type": "code",
   "execution_count": 103,
   "id": "5e1b2b8e-227f-4909-8247-3d42d3bbdd7f",
   "metadata": {},
   "outputs": [
    {
     "data": {
      "text/plain": [
       "publisher_name\n",
       "New York Times       12378\n",
       "Variety              10811\n",
       "Time Out             10526\n",
       "eFilmCritic.com       9568\n",
       "Los Angeles Times     9386\n",
       "Name: count, dtype: int64"
      ]
     },
     "execution_count": 103,
     "metadata": {},
     "output_type": "execute_result"
    }
   ],
   "source": [
    "top_publisher.head()"
   ]
  }
 ],
 "metadata": {
  "kernelspec": {
   "display_name": "Python 3 (ipykernel)",
   "language": "python",
   "name": "python3"
  },
  "language_info": {
   "codemirror_mode": {
    "name": "ipython",
    "version": 3
   },
   "file_extension": ".py",
   "mimetype": "text/x-python",
   "name": "python",
   "nbconvert_exporter": "python",
   "pygments_lexer": "ipython3",
   "version": "3.13.0"
  }
 },
 "nbformat": 4,
 "nbformat_minor": 5
}
